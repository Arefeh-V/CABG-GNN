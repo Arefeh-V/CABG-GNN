{
 "cells": [
  {
   "cell_type": "code",
   "execution_count": 9,
   "metadata": {},
   "outputs": [
    {
     "name": "stdout",
     "output_type": "stream",
     "text": [
      "Best AUC: 0.8173076923076923\n",
      "Best File: lr_0.01_wd_0.0001_drout_0.4_hidChannels32_20241121_214458.xlsx\n",
      "Best Folder: .\\results\\pcmci\\Yeo_17_mask\\result\\model_GATModel_embeddingSize_64\n"
     ]
    }
   ],
   "source": [
    "import os\n",
    "import pandas as pd\n",
    "\n",
    "def find_best_auc(base_folder):\n",
    "    best_auc = -float('inf')  # Initialize with a very low value\n",
    "    best_file = None\n",
    "    best_folder = None\n",
    "\n",
    "    # Traverse through all folders and files\n",
    "    for root, dirs, files in os.walk(base_folder):\n",
    "        for file in files:\n",
    "            if file.endswith('.xlsx'):  # Only process Excel files\n",
    "                file_path = os.path.join(root, file)\n",
    "                \n",
    "                try:\n",
    "                    # Read the Excel file and extract AUC values from all sheets\n",
    "                    train_sheet = pd.read_excel(file_path, sheet_name=\"Train Results\")\n",
    "                    val_sheet = pd.read_excel(file_path, sheet_name=\"Validation Results\")\n",
    "                    test_sheet = pd.read_excel(file_path, sheet_name=\"Test Results\")\n",
    "\n",
    "                    # Extract the \"Mean\" row and its auc value from each sheet\n",
    "                    train_mean_auc = train_sheet.loc[train_sheet[\"Fold\"] == \"Mean\", \"auc\"].values[0]\n",
    "                    val_mean_auc = val_sheet.loc[val_sheet[\"Fold\"] == \"Mean\", \"auc\"].values[0]\n",
    "                    test_mean_auc = test_sheet.loc[test_sheet[\"Fold\"] == \"Mean\", \"auc\"].values[0]\n",
    "\n",
    "                    # Get the best Mean AUC for this file\n",
    "                    file_best_mean_auc = max(train_mean_auc, val_mean_auc, test_mean_auc)\n",
    "\n",
    "\n",
    "                    # Update the best AUC across all files\n",
    "                    if file_best_mean_auc > best_auc:\n",
    "                        best_auc = file_best_mean_auc\n",
    "                        best_file = file\n",
    "                        best_folder = root\n",
    "\n",
    "                except Exception as e:\n",
    "                    print(f\"Error processing file {file_path}: {e}\")\n",
    "\n",
    "    return best_auc, best_file, best_folder\n",
    "\n",
    "\n",
    "# Use the function and specify the base folder\n",
    "base_folder = \".\\\\results\\\\pcmci\\\\Yeo_17_mask\\\\result\"  # Replace with your folder path\n",
    "best_auc, best_file, best_folder = find_best_auc(base_folder)\n",
    "\n",
    "print(f\"Best AUC: {best_auc}\")\n",
    "print(f\"Best File: {best_file}\")\n",
    "print(f\"Best Folder: {best_folder}\")\n"
   ]
  },
  {
   "cell_type": "code",
   "execution_count": null,
   "metadata": {},
   "outputs": [],
   "source": []
  }
 ],
 "metadata": {
  "kernelspec": {
   "display_name": "base",
   "language": "python",
   "name": "python3"
  },
  "language_info": {
   "codemirror_mode": {
    "name": "ipython",
    "version": 3
   },
   "file_extension": ".py",
   "mimetype": "text/x-python",
   "name": "python",
   "nbconvert_exporter": "python",
   "pygments_lexer": "ipython3",
   "version": "3.9.12"
  }
 },
 "nbformat": 4,
 "nbformat_minor": 2
}
