{
 "cells": [
  {
   "cell_type": "code",
   "execution_count": null,
   "id": "007a1b03",
   "metadata": {},
   "outputs": [],
   "source": [
    "import os\n",
    "import networkx as nx\n",
    "from node2vec import Node2Vec\n",
    "import pandas as pd\n",
    "\n",
    "# def embeddin_generator(emb_size, gml_directory, gmlfile_prefix, gmlfile_suffix):\n",
    "def run_node2vec_on_gml_files(gml_directory, output_directory):\n",
    "    # Loop through all files in the source directory\n",
    "    for subject_id in range(1, 162):  # assuming IDs from 001 to 161\n",
    "        filename = f'GNN input_LPCMCI_Sub{subject_id:03}_Yeo-7-liberal_space.gml'\n",
    "        file_path = os.path.join(gml_directory, filename)\n",
    "        \n",
    "        # Define output filename and path\n",
    "        output_filename = f'Node2Vec_LPCMCI_Sub{subject_id:03}_Yeo-7.csv'\n",
    "        output_path = os.path.join(output_directory, output_filename)\n",
    "        \n",
    "        # Check if output file already exists, skip if it does\n",
    "        if os.path.exists(output_path):\n",
    "            print(f\"File {output_filename} already exists in destination. Skipping...\")\n",
    "            continue\n",
    "\n",
    "        # Skip if input file does not exist\n",
    "        if not os.path.exists(file_path):\n",
    "            print(f\"File {filename} not found in source. Skipping...\")\n",
    "            continue\n",
    "        \n",
    "        # Load the graph\n",
    "        G = nx.read_gml(file_path)\n",
    "        \n",
    "        # Run Node2Vec\n",
    "        node2vec = Node2Vec(G, dimensions=64, walk_length=10, num_walks=100, workers=4)\n",
    "        model = node2vec.fit(window=10, min_count=1, batch_words=4)\n",
    "        \n",
    "        # Get node embeddings and save them as DataFrame\n",
    "        embeddings = {str(node): model.wv[str(node)] for node in G.nodes()}\n",
    "        embedding_df = pd.DataFrame.from_dict(embeddings, orient='index')\n",
    "        \n",
    "        # Save embedding dataframe to CSV\n",
    "        embedding_df.to_csv(output_path)\n",
    "        print(f\"Node2Vec embedding for {filename} has been successfully saved as {output_filename}\")\n",
    "\n",
    "# Example usage with specified directories\n",
    "gml_directory = r\".\\\\data\\\\Yeo-7-liberal_space_mask - LPCMCI\"\n",
    "output_directory = r\".\\\\data\\\\graph_embeddings_64\"\n",
    "\n",
    "# Ensure the output directory exists\n",
    "os.makedirs(output_directory, exist_ok=True)\n",
    "\n",
    "run_node2vec_on_gml_files(gml_directory, output_directory)\n"
   ]
  }
 ],
 "metadata": {
  "kernelspec": {
   "display_name": "base",
   "language": "python",
   "name": "python3"
  },
  "language_info": {
   "codemirror_mode": {
    "name": "ipython",
    "version": 3
   },
   "file_extension": ".py",
   "mimetype": "text/x-python",
   "name": "python",
   "nbconvert_exporter": "python",
   "pygments_lexer": "ipython3",
   "version": "3.9.12"
  }
 },
 "nbformat": 4,
 "nbformat_minor": 5
}
